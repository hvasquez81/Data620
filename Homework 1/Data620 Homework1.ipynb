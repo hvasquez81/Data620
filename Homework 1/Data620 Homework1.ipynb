{
 "cells": [
  {
   "cell_type": "markdown",
   "metadata": {},
   "source": [
    "# Assignment: \"hello, graph world\""
   ]
  },
  {
   "cell_type": "markdown",
   "metadata": {},
   "source": [
    "When software developers are starting to work in a new environment, they are encouraged to start with a simple “beachhead” program. "
   ]
  },
  {
   "cell_type": "markdown",
   "metadata": {},
   "source": [
    "In this assignment, you’re asked to create the nodes and edges for a basic graph, such as the Krackhardt kite shown below.  (You’re welcome to substitute data of your own choosing). "
   ]
  },
  {
   "cell_type": "markdown",
   "metadata": {},
   "source": [
    "You may use a package of your own choosing, such as iGraph or NetworkX, or…?  Your code should be delivered in an IPython notebook, and placed into GitHub.  In your assignment link, please provide a link to your GitHub repository. "
   ]
  },
  {
   "cell_type": "code",
   "execution_count": 2,
   "metadata": {},
   "outputs": [],
   "source": [
    "import matplotlib.pyplot as plt\n",
    "import networkx as nx"
   ]
  },
  {
   "cell_type": "markdown",
   "metadata": {},
   "source": [
    "First we create the graph:"
   ]
  },
  {
   "cell_type": "code",
   "execution_count": 5,
   "metadata": {},
   "outputs": [],
   "source": [
    "graph = nx.Graph()"
   ]
  },
  {
   "cell_type": "markdown",
   "metadata": {},
   "source": [
    "Next we add the edges:"
   ]
  },
  {
   "cell_type": "code",
   "execution_count": 6,
   "metadata": {},
   "outputs": [],
   "source": [
    "graph.add_edge('Andre', 'Carol')\n",
    "graph.add_edge('Andre', 'Diane')\n",
    "graph.add_edge('Andre', 'Beverly')\n",
    "graph.add_edge('Andre', 'Fernando')\n",
    "graph.add_edge('Fernando', 'Carol')\n",
    "graph.add_edge('Fernando', 'Diane')\n",
    "graph.add_edge('Fernando', 'Garth')\n",
    "graph.add_edge('Fernando', 'Heather')\n",
    "graph.add_edge('Fernando', 'Andre')\n",
    "graph.add_edge('Garth', 'Ed')\n",
    "graph.add_edge('Garth', 'Diane')\n",
    "graph.add_edge('Garth', 'Fernando')\n",
    "graph.add_edge('Garth', 'Heather')\n",
    "graph.add_edge('Garth', 'Beverly')\n",
    "graph.add_edge('Beverly', 'Diane')\n",
    "graph.add_edge('Beverly', 'Andre')\n",
    "graph.add_edge('Beverly', 'Ed')\n",
    "graph.add_edge('Beverly', 'Garth')\n",
    "graph.add_edge('Ed', 'Beverly')\n",
    "graph.add_edge('Ed', 'Diane')\n",
    "graph.add_edge('Ed', 'Garth')\n",
    "graph.add_edge('Carol', 'Andre')\n",
    "graph.add_edge('Carol', 'Diane')\n",
    "graph.add_edge('Carol', 'Fernando')\n",
    "graph.add_edge('Diane', 'Carol')\n",
    "graph.add_edge('Diane', 'Fernando')\n",
    "graph.add_edge('Diane', 'Garth')\n",
    "graph.add_edge('Diane', 'Ed')\n",
    "graph.add_edge('Diane', 'Beverly')\n",
    "graph.add_edge('Diane', 'Andre')\n",
    "graph.add_edge('Heather', 'Fernando')\n",
    "graph.add_edge('Heather', 'Garth')\n",
    "graph.add_edge('Heather', 'Ike')\n",
    "graph.add_edge('Ike', 'Heather')\n",
    "graph.add_edge('Ike', 'Jane')\n",
    "graph.add_edge('Jane', 'Ike')"
   ]
  },
  {
   "cell_type": "markdown",
   "metadata": {},
   "source": [
    "Next set the positions:"
   ]
  },
  {
   "cell_type": "code",
   "execution_count": 21,
   "metadata": {},
   "outputs": [],
   "source": [
    "positions = {'Andre': (0, 1),\n",
    "      'Fernando': (2, 1),\n",
    "      'Garth': (2, -1),\n",
    "      'Beverly': (0, -1),\n",
    "      'Ed': (1, -2),\n",
    "      'Carol': (1, 2),\n",
    "      'Diane': (1, 0),\n",
    "      'Heather': (3,0),\n",
    "      'Ike': (4,0),\n",
    "      'Jane': (5,0)\n",
    "            }"
   ]
  },
  {
   "cell_type": "markdown",
   "metadata": {},
   "source": [
    "Draw nodes, edges and add labels:"
   ]
  },
  {
   "cell_type": "code",
   "execution_count": 40,
   "metadata": {},
   "outputs": [
    {
     "data": {
      "image/png": "[encoded data removed]",
      "text/plain": [
       "<Figure size 432x288 with 1 Axes>"
      ]
     },
     "metadata": {
      "needs_background": "light"
     },
     "output_type": "display_data"
    }
   ],
   "source": [
    "nx.draw_networkx_nodes(graph, positions, node_size= 50)\n",
    "nx.draw_networkx_edges(graph, positions, alpha = .5, width = 5)\n",
    "nx.draw_networkx_labels(graph, positions, font_size = 15)\n",
    "plt.axis('off')\n",
    "plt.show()"
   ]
  },
  {
   "cell_type": "code",
   "execution_count": null,
   "metadata": {},
   "outputs": [],
   "source": []
  },
  {
   "cell_type": "code",
   "execution_count": null,
   "metadata": {},
   "outputs": [],
   "source": [
    "\n"
   ]
  },
  {
   "cell_type": "code",
   "execution_count": null,
   "metadata": {},
   "outputs": [],
   "source": []
  },
  {
   "cell_type": "code",
   "execution_count": null,
   "metadata": {},
   "outputs": [],
   "source": []
  },
  {
   "cell_type": "code",
   "execution_count": 16,
   "metadata": {},
   "outputs": [],
   "source": []
  },
  {
   "cell_type": "code",
   "execution_count": null,
   "metadata": {},
   "outputs": [],
   "source": []
  }
 ],
 "metadata": {
  "kernelspec": {
   "display_name": "Python 3",
   "language": "python",
   "name": "python3"
  },
  "language_info": {
   "codemirror_mode": {
    "name": "ipython",
    "version": 3
   },
   "file_extension": ".py",
   "mimetype": "text/x-python",
   "name": "python",
   "nbconvert_exporter": "python",
   "pygments_lexer": "ipython3",
   "version": "3.7.1"
  }
 },
 "nbformat": 4,
 "nbformat_minor": 2
}
